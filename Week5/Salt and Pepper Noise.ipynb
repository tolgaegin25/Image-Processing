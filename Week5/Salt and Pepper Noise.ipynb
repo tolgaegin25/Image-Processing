{
 "cells": [
  {
   "cell_type": "code",
   "execution_count": null,
   "metadata": {},
   "outputs": [],
   "source": [
    "import numpy as np\n",
    "import cv2\n",
    "def saltPepperNoise(image):\n",
    "    row,col,ch = image.shape\n",
    "    s_vs_p = 0.5\n",
    "    amount = 0.04\n",
    "    noisy = np.copy(image)\n",
    "    num_salt = int(np.ceil(amount*image.size*s_vs_p))\n",
    "    corrds = [np.random.randint(0,i-1,num_salt) for i in image.shape]\n",
    "    noisy[corrds] = 1\n",
    "    num_pep = int(np.ceil(amount*image.size*s_vs_p))\n",
    "    corrds = [np.random.randint(0,i-1,num_pep) for i in image.shape]\n",
    "    noisy[corrds] = 0\n",
    "    return noisy\n",
    "img = cv2.imread(\"test.jpg\")\n",
    "img = img/255\n",
    "noise_img = saltPepperNoise(img)\n",
    "cv2.imshow(\"Salt and Pepper Noise\",noise_img)\n",
    "cv2.waitKey(0)"
   ]
  },
  {
   "cell_type": "code",
   "execution_count": null,
   "metadata": {},
   "outputs": [],
   "source": []
  }
 ],
 "metadata": {
  "kernelspec": {
   "display_name": "Python 3",
   "language": "python",
   "name": "python3"
  },
  "language_info": {
   "codemirror_mode": {
    "name": "ipython",
    "version": 3
   },
   "file_extension": ".py",
   "mimetype": "text/x-python",
   "name": "python",
   "nbconvert_exporter": "python",
   "pygments_lexer": "ipython3",
   "version": "3.6.10"
  }
 },
 "nbformat": 4,
 "nbformat_minor": 4
}
